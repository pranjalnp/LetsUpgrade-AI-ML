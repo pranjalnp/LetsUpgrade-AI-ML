{
 "cells": [
  {
   "cell_type": "markdown",
   "metadata": {},
   "source": [
    "Hypothesis\n",
    "Target Variable : Attrition\n",
    "\n",
    "1.Does older age staff leave the job more ( Age Vs Attrition)\n",
    "\n",
    "2.Does staff living far away from office is leaving the job more (DistanceFromHome vs Attrition)\n",
    "\n",
    "3.Does staff travelling frequently leave the job more (BusinessTravel vs Attrition)\n",
    "\n",
    "4.Does staff with Technical Degree leave the job more (EducationField vs Attrition)\n",
    "\n",
    "5.Does vintage staff are leave the job more (YearsAtCompany vs Attrition)\n",
    "\n",
    "6.Does staff getting low salary hike leave the job more (PercentSalaryHike vs Attrition)\n",
    "\n",
    "7.Does staff with less training leave the bob more (TrainingTimesLastYear vs Attrition)\n",
    "\n",
    "8.Does staff with Manager Role leave the job more (JobRole vs Attrition)\n",
    "\n",
    "9.Does staff not promoted for few years leave the job more (YearsSinceLastPromotion vs Attrition)\n",
    "\n",
    "10.Does female staff leave the job more (Gender vs Attrition)"
   ]
  }
 ],
 "metadata": {
  "kernelspec": {
   "display_name": "Python 3",
   "language": "python",
   "name": "python3"
  },
  "language_info": {
   "codemirror_mode": {
    "name": "ipython",
    "version": 3
   },
   "file_extension": ".py",
   "mimetype": "text/x-python",
   "name": "python",
   "nbconvert_exporter": "python",
   "pygments_lexer": "ipython3",
   "version": "3.7.6"
  }
 },
 "nbformat": 4,
 "nbformat_minor": 4
}
