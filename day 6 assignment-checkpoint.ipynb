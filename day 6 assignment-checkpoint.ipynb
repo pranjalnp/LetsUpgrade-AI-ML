{
 "cells": [
  {
   "cell_type": "markdown",
   "metadata": {},
   "source": [
    "# 1"
   ]
  },
  {
   "cell_type": "code",
   "execution_count": 68,
   "metadata": {},
   "outputs": [
    {
     "name": "stdout",
     "output_type": "stream",
     "text": [
      "enter the email id:pranjal@google.com\n",
      "username is: pranjal\n",
      " Company name is : google\n"
     ]
    }
   ],
   "source": [
    "email = input('enter the email id:')\n",
    "ix1 = email.index(\"@\")\n",
    "ix2 = email.index(\".\")\n",
    "company = email[ix1+1:ix2]\n",
    "username= email[:ix1]\n",
    "print('username is:',username)\n",
    "print(\" Company name is :\",company)\n",
    "\n",
    "\n",
    "\n"
   ]
  },
  {
   "cell_type": "markdown",
   "metadata": {},
   "source": [
    "# 2"
   ]
  },
  {
   "cell_type": "code",
   "execution_count": 16,
   "metadata": {},
   "outputs": [
    {
     "name": "stdout",
     "output_type": "stream",
     "text": [
      "enter the words:apple,zebra,monkey,cat\n",
      "['apple', 'cat', 'monkey', 'zebra']\n",
      "apple,cat,monkey,zebra\n"
     ]
    }
   ],
   "source": [
    "s1=input('enter the words:')\n",
    "lst=s1.split(',')\n",
    "lst.sort()\n",
    "print(lst)\n",
    "var=''\n",
    "var=','.join(lst)\n",
    "print(var)\n",
    "\n",
    "    \n"
   ]
  },
  {
   "cell_type": "markdown",
   "metadata": {},
   "source": [
    "# 3"
   ]
  },
  {
   "cell_type": "code",
   "execution_count": null,
   "metadata": {},
   "outputs": [],
   "source": [
    "# Create a Set:\n",
    "\n",
    "set1 = {\"A\", \"B\", \"C\"}\n",
    "print(set1)"
   ]
  },
  {
   "cell_type": "code",
   "execution_count": null,
   "metadata": {},
   "outputs": [],
   "source": [
    "# Modify a Set:\n",
    "\n",
    "set1.add('D')\n",
    "print(set1)"
   ]
  },
  {
   "cell_type": "code",
   "execution_count": null,
   "metadata": {},
   "outputs": [],
   "source": [
    "# Remove an random element\n",
    "set1.pop()"
   ]
  },
  {
   "cell_type": "code",
   "execution_count": null,
   "metadata": {},
   "outputs": [],
   "source": [
    "# REmove an element\n",
    "set1.remove('D')\n",
    "set1"
   ]
  },
  {
   "cell_type": "code",
   "execution_count": null,
   "metadata": {},
   "outputs": [],
   "source": [
    "# Empty the set\n",
    "\n",
    "set1.clear()\n",
    "set1"
   ]
  },
  {
   "cell_type": "markdown",
   "metadata": {},
   "source": [
    "# 4"
   ]
  },
  {
   "cell_type": "code",
   "execution_count": 27,
   "metadata": {},
   "outputs": [
    {
     "name": "stdout",
     "output_type": "stream",
     "text": [
      " Enter n-1 numbers with one missing number: 1 3 4 5 6 7\n",
      " Missing Number in the list is:  2\n"
     ]
    }
   ],
   "source": [
    "var = list(input(\" Enter n-1 numbers with one missing number: \"))\n",
    "var.sort()\n",
    "#print(var)\n",
    "\n",
    "var1 = 0\n",
    "for i in var:\n",
    "    if i == ' ':\n",
    "        pass\n",
    "    else:    \n",
    "        if int(i) - var1 > 1:\n",
    "            print(\" Missing Number in the list is: \", int(i)-1)\n",
    "            break\n",
    "        else:\n",
    "            var1 += 1"
   ]
  },
  {
   "cell_type": "markdown",
   "metadata": {},
   "source": [
    "# 5"
   ]
  },
  {
   "cell_type": "code",
   "execution_count": null,
   "metadata": {},
   "outputs": [],
   "source": [
    "def unite(x):\n",
    "    y = ''\n",
    "    j = 0\n",
    "    for i in x:\n",
    "        if j == 0:\n",
    "            y = i\n",
    "        else:\n",
    "            y = y + ' ' +  i\n",
    "        j += 1\n",
    "    \n",
    "    print(y)\n",
    "        \n",
    "        \n",
    "\n",
    "var = input(\"Enter list of numbers to remove duplicates: \")\n",
    "\n",
    "print(var)\n",
    "\n",
    "var1 = list(var.split(' '))\n",
    "# print(var1)\n",
    "\n",
    "final = []\n",
    "j = 0\n",
    "for i in var1:\n",
    "    if i not in final:\n",
    "        final.append(i)\n",
    "        \n",
    "unite(final)"
   ]
  }
 ],
 "metadata": {
  "kernelspec": {
   "display_name": "Python 3",
   "language": "python",
   "name": "python3"
  },
  "language_info": {
   "codemirror_mode": {
    "name": "ipython",
    "version": 3
   },
   "file_extension": ".py",
   "mimetype": "text/x-python",
   "name": "python",
   "nbconvert_exporter": "python",
   "pygments_lexer": "ipython3",
   "version": "3.7.6"
  }
 },
 "nbformat": 4,
 "nbformat_minor": 4
}
